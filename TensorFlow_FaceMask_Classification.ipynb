{
 "cells": [
  {
   "cell_type": "code",
   "execution_count": 1,
   "id": "382194a7",
   "metadata": {},
   "outputs": [
    {
     "name": "stderr",
     "output_type": "stream",
     "text": [
      "/home/sardor/PycharmProjects/ColorIdentificationinImages/venv/lib/python3.9/site-packages/tensorflow_io/python/ops/__init__.py:98: UserWarning: unable to load libtensorflow_io_plugins.so: unable to open file: libtensorflow_io_plugins.so, from paths: ['/home/sardor/PycharmProjects/ColorIdentificationinImages/venv/lib/python3.9/site-packages/tensorflow_io/python/ops/libtensorflow_io_plugins.so']\n",
      "caused by: [\"[Errno 2] The file to load file system plugin from does not exist.: '/home/sardor/PycharmProjects/ColorIdentificationinImages/venv/lib/python3.9/site-packages/tensorflow_io/python/ops/libtensorflow_io_plugins.so'\"]\n",
      "  warnings.warn(f\"unable to load libtensorflow_io_plugins.so: {e}\")\n",
      "/home/sardor/PycharmProjects/ColorIdentificationinImages/venv/lib/python3.9/site-packages/tensorflow_io/python/ops/__init__.py:104: UserWarning: file system plugins are not loaded: unable to open file: libtensorflow_io.so, from paths: ['/home/sardor/PycharmProjects/ColorIdentificationinImages/venv/lib/python3.9/site-packages/tensorflow_io/python/ops/libtensorflow_io.so']\n",
      "caused by: ['/home/sardor/PycharmProjects/ColorIdentificationinImages/venv/lib/python3.9/site-packages/tensorflow_io/python/ops/libtensorflow_io.so: cannot open shared object file: No such file or directory']\n",
      "  warnings.warn(f\"file system plugins are not loaded: {e}\")\n"
     ]
    }
   ],
   "source": [
    "import os \n",
    "import tensorflow as tf\n",
    "import math\n",
    "import numpy as np \n",
    "import matplotlib.pyplot as plt\n",
    "from tensorflow import keras\n",
    "from tensorflow.keras import layers\n",
    "from tensorflow.keras.preprocessing import image_dataset_from_directory"
   ]
  },
  {
   "cell_type": "code",
   "execution_count": 2,
   "id": "7b0f0863",
   "metadata": {},
   "outputs": [],
   "source": [
    "IMG_SIZE=128\n",
    "BATCH_SIZE=64 # assume kaggle know something\n",
    "SEED=17\n",
    "EPOCHS=10\n",
    "TRAIN_DIR = \"mask_images/train\"\n",
    "TEST_DIR = \"mask_images/test\"\n",
    "VAL_DIR = \"mask_images/val\""
   ]
  },
  {
   "cell_type": "code",
   "execution_count": 3,
   "id": "fafe877f",
   "metadata": {},
   "outputs": [
    {
     "name": "stdout",
     "output_type": "stream",
     "text": [
      "Found 72 files belonging to 2 classes.\n",
      "Found 14 files belonging to 2 classes.\n",
      "Found 14 files belonging to 2 classes.\n"
     ]
    }
   ],
   "source": [
    "train_gen = image_dataset_from_directory(\n",
    "    TRAIN_DIR,\n",
    "    label_mode='binary',\n",
    "    image_size=(IMG_SIZE,IMG_SIZE),\n",
    "    batch_size=BATCH_SIZE,\n",
    "    interpolation='nearest',\n",
    "    labels='inferred', #i also do not know why i am adding them \n",
    "    shuffle=True\n",
    ")\n",
    "\n",
    "test_gen = image_dataset_from_directory(\n",
    "    TEST_DIR,\n",
    "    image_size=(IMG_SIZE,IMG_SIZE),\n",
    "    batch_size=BATCH_SIZE,\n",
    "    shuffle=True,\n",
    "    label_mode='binary',\n",
    "    labels='inferred',\n",
    "    interpolation='nearest')\n",
    "\n",
    "val_gen = image_dataset_from_directory(\n",
    "    VAL_DIR,\n",
    "    image_size=(IMG_SIZE,IMG_SIZE),\n",
    "    batch_size=BATCH_SIZE,\n",
    "    shuffle=True,\n",
    "    labels='inferred',\n",
    "    label_mode='binary',\n",
    "    interpolation='nearest'\n",
    ")\n"
   ]
  },
  {
   "cell_type": "code",
   "execution_count": 4,
   "id": "76b8f483",
   "metadata": {},
   "outputs": [],
   "source": [
    "#data pipeline \n",
    "def convert_to_float(image,label):\n",
    "    image = tf.image.convert_image_dtype(image, dtype=tf.float32)\n",
    "    return image,label\n",
    "\n",
    "\n",
    "AUTOTUNE = tf.data.experimental.AUTOTUNE\n",
    "\n",
    "ds_train = train_gen.map(convert_to_float).cache().prefetch(buffer_size=AUTOTUNE)\n",
    "ds_val = test_gen.map(convert_to_float).cache().prefetch(buffer_size=AUTOTUNE)\n",
    "ds_test = val_gen.map(convert_to_float).cache().prefetch(buffer_size=AUTOTUNE)"
   ]
  },
  {
   "cell_type": "code",
   "execution_count": 5,
   "id": "62684058",
   "metadata": {},
   "outputs": [
    {
     "name": "stdout",
     "output_type": "stream",
     "text": [
      "WARNING:tensorflow:SavedModel saved prior to TF 2.5 detected when loading Keras model. Please ensure that you are saving the model with model.save() or tf.keras.models.save_model(), *NOT* tf.saved_model.save(). To confirm, there should be a file named \"keras_metadata.pb\" in the SavedModel directory.\n"
     ]
    },
    {
     "name": "stderr",
     "output_type": "stream",
     "text": [
      "2022-12-17 16:03:03.080805: W tensorflow/tsl/framework/cpu_allocator_impl.cc:82] Allocation of 9437184 exceeds 10% of free system memory.\n",
      "2022-12-17 16:03:03.100492: W tensorflow/tsl/framework/cpu_allocator_impl.cc:82] Allocation of 9437184 exceeds 10% of free system memory.\n",
      "2022-12-17 16:03:03.113072: W tensorflow/tsl/framework/cpu_allocator_impl.cc:82] Allocation of 9437184 exceeds 10% of free system memory.\n",
      "2022-12-17 16:03:03.150280: W tensorflow/tsl/framework/cpu_allocator_impl.cc:82] Allocation of 9437184 exceeds 10% of free system memory.\n",
      "2022-12-17 16:03:03.174450: W tensorflow/tsl/framework/cpu_allocator_impl.cc:82] Allocation of 9437184 exceeds 10% of free system memory.\n"
     ]
    },
    {
     "name": "stdout",
     "output_type": "stream",
     "text": [
      "WARNING:tensorflow:No training configuration found in save file, so the model was *not* compiled. Compile it manually.\n"
     ]
    }
   ],
   "source": [
    "pretrained_base = tf.keras.models.load_model(\"saved_models/vgg16-pretrained-base\")\n",
    "pretrained_base.trainable=False\n"
   ]
  },
  {
   "cell_type": "code",
   "execution_count": 8,
   "id": "357492b1",
   "metadata": {},
   "outputs": [],
   "source": [
    "from tensorflow.keras.models import Sequential\n",
    "\n",
    "\n",
    "model=Sequential([\n",
    "    pretrained_base,\n",
    "    layers.Flatten(),\n",
    "    layers.Dense(6, activation='relu'),\n",
    "    layers.Dense(1, activation='sigmoid')])\n",
    "\n",
    "\n",
    "model.compile(loss='binary_crossentropy',  \n",
    "             optimizer='adam',\n",
    "             metrics=['binary_accuracy'])\n"
   ]
  },
  {
   "cell_type": "code",
   "execution_count": 9,
   "id": "a2a14463",
   "metadata": {},
   "outputs": [
    {
     "name": "stdout",
     "output_type": "stream",
     "text": [
      "Epoch 1/10\n",
      "2/2 [==============================] - 24s 7s/step - loss: 0.9363 - binary_accuracy: 0.3611 - val_loss: 0.4538 - val_binary_accuracy: 0.8571\n",
      "Epoch 2/10\n",
      "2/2 [==============================] - 17s 4s/step - loss: 0.4307 - binary_accuracy: 0.8194 - val_loss: 0.4238 - val_binary_accuracy: 0.7143\n",
      "Epoch 3/10\n",
      "2/2 [==============================] - 13s 3s/step - loss: 0.4206 - binary_accuracy: 0.7222 - val_loss: 0.3430 - val_binary_accuracy: 0.8571\n",
      "Epoch 4/10\n",
      "2/2 [==============================] - 13s 3s/step - loss: 0.3289 - binary_accuracy: 0.8750 - val_loss: 0.1556 - val_binary_accuracy: 1.0000\n",
      "Epoch 5/10\n",
      "2/2 [==============================] - 13s 3s/step - loss: 0.1532 - binary_accuracy: 1.0000 - val_loss: 0.0770 - val_binary_accuracy: 1.0000\n",
      "Epoch 6/10\n",
      "2/2 [==============================] - 13s 3s/step - loss: 0.0885 - binary_accuracy: 1.0000 - val_loss: 0.0609 - val_binary_accuracy: 1.0000\n",
      "Epoch 7/10\n",
      "2/2 [==============================] - 14s 3s/step - loss: 0.0771 - binary_accuracy: 1.0000 - val_loss: 0.0520 - val_binary_accuracy: 1.0000\n",
      "Epoch 8/10\n",
      "2/2 [==============================] - 13s 3s/step - loss: 0.0685 - binary_accuracy: 1.0000 - val_loss: 0.0397 - val_binary_accuracy: 1.0000\n",
      "Epoch 9/10\n",
      "2/2 [==============================] - 14s 3s/step - loss: 0.0538 - binary_accuracy: 1.0000 - val_loss: 0.0287 - val_binary_accuracy: 1.0000\n",
      "Epoch 10/10\n",
      "2/2 [==============================] - 14s 3s/step - loss: 0.0391 - binary_accuracy: 1.0000 - val_loss: 0.0219 - val_binary_accuracy: 1.0000\n"
     ]
    }
   ],
   "source": [
    "history = model.fit(ds_train, epochs=EPOCHS, \n",
    "                    validation_data=ds_val)"
   ]
  },
  {
   "cell_type": "code",
   "execution_count": 10,
   "id": "346c46af",
   "metadata": {},
   "outputs": [
    {
     "name": "stdout",
     "output_type": "stream",
     "text": [
      "1/1 - 2s - loss: 0.0389 - binary_accuracy: 1.0000 - 2s/epoch - 2s/step\n",
      "1/1 - 3s - loss: 0.0219 - binary_accuracy: 1.0000 - 3s/epoch - 3s/step\n"
     ]
    },
    {
     "data": {
      "text/plain": [
       "[0.021900800988078117, 1.0]"
      ]
     },
     "execution_count": 10,
     "metadata": {},
     "output_type": "execute_result"
    }
   ],
   "source": [
    "model.evaluate(ds_test, verbose=2)\n",
    "model.evaluate(ds_val, verbose=2)"
   ]
  },
  {
   "cell_type": "code",
   "execution_count": 11,
   "id": "b352361d",
   "metadata": {},
   "outputs": [
    {
     "name": "stderr",
     "output_type": "stream",
     "text": [
      "WARNING:absl:Found untraced functions such as _update_step_xla, _jit_compiled_convolution_op, _jit_compiled_convolution_op, _jit_compiled_convolution_op, _jit_compiled_convolution_op while saving (showing 5 of 14). These functions will not be directly callable after loading.\n"
     ]
    },
    {
     "name": "stdout",
     "output_type": "stream",
     "text": [
      "INFO:tensorflow:Assets written to: saved_models/my_model_kaggle_course_v3/assets\n"
     ]
    },
    {
     "name": "stderr",
     "output_type": "stream",
     "text": [
      "INFO:tensorflow:Assets written to: saved_models/my_model_kaggle_course_v3/assets\n"
     ]
    }
   ],
   "source": [
    "model.save('saved_models/my_model_kaggle_course_v3')"
   ]
  }
 ],
 "metadata": {
  "kernelspec": {
   "display_name": "Python 3 (ipykernel)",
   "language": "python",
   "name": "python3"
  },
  "language_info": {
   "codemirror_mode": {
    "name": "ipython",
    "version": 3
   },
   "file_extension": ".py",
   "mimetype": "text/x-python",
   "name": "python",
   "nbconvert_exporter": "python",
   "pygments_lexer": "ipython3",
   "version": "3.9.5"
  }
 },
 "nbformat": 4,
 "nbformat_minor": 5
}
